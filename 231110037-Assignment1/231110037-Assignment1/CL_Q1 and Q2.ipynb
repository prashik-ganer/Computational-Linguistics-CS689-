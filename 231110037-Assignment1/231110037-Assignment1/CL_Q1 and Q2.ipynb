{
 "cells": [
  {
   "cell_type": "markdown",
   "id": "1a1bebd7",
   "metadata": {},
   "source": [
    "## UNICODE CORRECTION - Question 1"
   ]
  },
  {
   "cell_type": "code",
   "execution_count": 12,
   "id": "cd447271",
   "metadata": {},
   "outputs": [],
   "source": [
    "with open(\"sample.txt\", \"r\", encoding=\"utf-8\") as file:\n",
    "    # Read and print the content\n",
    "#     print(file.read())\n",
    "    content=file.read()"
   ]
  },
  {
   "cell_type": "code",
   "execution_count": 13,
   "id": "a0729417",
   "metadata": {},
   "outputs": [
    {
     "name": "stdout",
     "output_type": "stream",
     "text": [
      "[['म', 'ो', 'द', 'ी'], ['स', 'र', 'क', 'ा', 'र'], ['क', 'े'], ['प', 'ह', 'ल', 'े'], ['क', 'ा', 'र', '्', 'य', 'क', 'ा', 'ल'], ['म', 'े', 'ं'], ['भ', 'ी'], ['त', 'ी', 'न'], ['त', 'ल', 'ा', 'क'], ['क', 'ो'], ['ल', 'े', 'क', 'र'], ['ब', 'ि', 'ल'], ['ल', 'ा', 'य', 'ा'], ['ग', 'य', 'ा'], ['थ', 'ा', ','], ['ह', 'ा', 'ल', 'ा', 'ं', 'क', 'ि'], ['त', 'ब'], ['य', 'ह'], ['र', 'ा', 'ज', '्', 'य', 'स', 'भ', 'ा'], ['म', 'े', 'ं']]\n",
      "[['म्', 'ओ', 'द्', 'ई'], ['स्', 'अ', 'र्', 'अ', 'क्', 'आ', 'र्', 'अ'], ['क्', 'ए'], ['प्', 'अ', 'ह्', 'अ', 'ल्', 'ए'], ['क्', 'आ', 'र्', 'य्', 'अ', 'क्', 'आ', 'ल्', 'अ'], ['म्', 'ए', 'अं'], ['भ्', 'ई'], ['त्', 'ई', 'न्', 'अ'], ['त्', 'अ', 'ल्', 'आ', 'क्', 'अ'], ['क्', 'ओ'], ['ल्', 'ए', 'क्', 'अ', 'र्', 'अ'], ['ब्', 'इ', 'ल्', 'अ'], ['ल्', 'आ', 'य्', 'आ'], ['ग्', 'अ', 'य्', 'आ'], ['थ्', 'आ'], ['ह्', 'आ', 'ल्', 'आ', 'अं', 'क्', 'इ'], ['त्', 'अ', 'ब्', 'अ'], ['य्', 'अ', 'ह्', 'अ'], ['र्', 'आ', 'ज्', 'य्', 'अ', 'स्', 'अ', 'भ्', 'आ'], ['म्', 'ए', 'अं']]\n"
     ]
    }
   ],
   "source": [
    "matra = ['अ','ा', 'ि', 'ी', 'ु', 'ू', 'ृ', 'ॄ', 'े', 'ै', 'ो', 'ौ', 'ं', 'ः','ँ',' ृ',' ॄ']\n",
    "# vowels2 = ['आ', 'इ', 'ई', 'उ', 'ऊ', 'ऋ', 'ॠ', 'ए', 'ऐ', 'ओ', 'औ']\n",
    "# vowels = ['अ', 'आ', 'इ', 'ई', 'उ', 'ऊ', 'ऋ', 'ॠ', 'ए', 'ऐ', 'ओ', 'औ']\n",
    "vowels = ['अ','आ', 'इ', 'ई', 'उ', 'ऊ', 'ऋ', 'ॠ', 'ए', 'ऐ', 'ओ', 'औ', 'अं', 'अः','अँ','ऋ', 'ॠ']\n",
    "vowelsCheck=['अ','आ', 'इ', 'ई', 'उ', 'ऊ', 'ऋ', 'ॠ', 'ए', 'ऐ', 'ओ', 'औ', 'अं', 'अः']\n",
    "consonants = ['क', 'ख', 'ग', 'घ', 'ङ', 'च', 'छ', 'ज', 'झ', 'ञ', 'ट', 'ठ', 'ड', 'ढ', 'ण', 'त', 'थ', 'द', 'ध', 'न', 'प', 'फ', 'ब', 'भ', 'म', 'य', 'र', 'ल', 'व', 'श', 'ष', 'स', 'ह']\n",
    "extraSounds=['ं', 'ः','ँ']\n",
    "rev_dict={'अ':'','आ': 'ा', 'इ': 'ि', 'ई': 'ी', 'उ': 'ु', 'ऊ': 'ू', 'ए': 'े', 'ऐ': 'ै', 'ओ': 'ो', 'औ': 'ौ','अं':'ं', 'अः':'ः','अँ':'ँ','ऋ':' ृ','ॠ':' ॄ'}\n",
    "\n",
    "\n",
    "# Create a dictionary mapping\n",
    "mapping_dict = dict(zip(matra, vowels))\n",
    "# mapping_dict['अ']='अ'\n",
    "\n",
    "\n",
    "txt =content\n",
    "\n",
    "lst = []\n",
    "temp=[]\n",
    "\n",
    "\n",
    "# Breaking string into different subparts\n",
    "for i in range(len(txt)+1):\n",
    "    # if(i not in consonants or i not in vowels or i not in matra):\n",
    "    #     continue\n",
    "    if(i==len(txt) or txt[i]==' '):\n",
    "        lst.append(temp)\n",
    "        temp=[]\n",
    "    else:\n",
    "        temp.append(txt[i])\n",
    "print(lst[:20])\n",
    "# [['ह', 'ि', 'न', '्', 'द', 'ी'], ['भ', 'ा', 'ष', 'ा'], ['क', 'ा'], ['अ', 'द', '्', 'व', 'ि', 'त', 'ी', 'य'], ['स', '्', 'थ', 'ा', 'न'], ['ह', 'ै', '।'], ['आ', 'ज'], ['ह', 'म'], ['आ', 'प', 'क', 'े'], ['ल', 'ि', 'ए'], ['ल', 'ा', 'य', 'े'], ['ह', 'ै'], ['ज', 'ि', 'ं', 'द', 'ग', 'ी'], ['प', 'र'], ['श', 'ा', 'य', 'र', 'ी'], ['द', 'ो'], ['ल', 'ा', 'इ', 'न'], ['ज', 'ि', 'न', 'क', 'ो'], ['आ', 'प'], ['अ', 'प', 'न', 'े'], ['द', 'ो', 'स', '्', 'त', 'ो', 'ं'], ['क', 'े'], ['स', 'ा', 'थ'], ['स', 'ा', 'ँ', 'झ', 'ा'], ['क', 'र'], ['स', 'क', 'त', 'े'], ['ह', 'ो', '।'], ['अ', 'प', 'न', 'े'], ['द', 'ो', 'स', '्', 'त', 'ो', 'ं'], ['क', 'े'], ['स', 'ा', 'थ'], ['स', 'ा', 'ँ', 'झ', 'ा'], ['क', 'र'], ['स', 'क', 'त', 'े'], ['ह', 'ो', '।'], ['स', '्', 'व', 'र', '्', 'ग'], ['आ', 'ं', 'ट', 'ी'], ['च', 'ा', 'ँ', 'द']]\n",
    "\n",
    "\n",
    "\n",
    "\n",
    "\n",
    "\n",
    "# ---------------------- FORMING UNICODE ----------------------------------\n",
    "separate_words=[]\n",
    "final_list=[]\n",
    "\n",
    "\n",
    "for word in range(len(lst)):\n",
    "\n",
    "    # for i in ranghe(len(lst[word])):\n",
    "    for i in range(len(lst[word])):\n",
    "        if(lst[word][i] in consonants and i+1<=len(lst[word])-1 and lst[word][i+1] in consonants):\n",
    "            separate_words.append(lst[word][i]+'्')\n",
    "            # lst[word][i]=lst[word][i]+'्'\n",
    "            # lst[word].insert(i+1, 'अ')\n",
    "            separate_words.append('अ')\n",
    "\n",
    "\n",
    "        # If the consonant is at the final index\n",
    "        elif(lst[word][i] in consonants and i==len(lst[word])-1):\n",
    "            separate_words.append(lst[word][i]+'्')\n",
    "            separate_words.append('अ')\n",
    "\n",
    "\n",
    "\n",
    "        elif(lst[word][i] in consonants and i+1<=len(lst[word])-1 and lst[word][i+1] not in consonants):\n",
    "            separate_words.append(lst[word][i]+'्')\n",
    "\n",
    "        elif(lst[word][i] in matra):\n",
    "            # lst[word][i]=mapping_dict[lst[word][i]]\n",
    "            separate_words.append(mapping_dict[lst[word][i]])\n",
    "\n",
    "        elif(lst[word][i] in vowels):\n",
    "            # lst[word][i]=mapping_dict[lst[word][i]]\n",
    "            separate_words.append(lst[word][i])\n",
    "\n",
    "\n",
    "    final_list.append(separate_words)\n",
    "    separate_words=[]\n",
    "\n",
    "# FORMING UNICODE\n",
    "print(final_list[:20])\n",
    "# [['ह्', 'इ', 'न्', 'द्', 'ई'], ['भ्', 'आ', 'ष्', 'आ'], ['क्', 'आ'], ['अ', 'द्', 'व्', 'इ', 'त्', 'ई', 'य्', 'अ'], ['स्', 'थ्', 'आ', 'न्', 'अ'], ['ह्', 'ऐ'], ['आ', 'ज्', 'अ'], ['ह्', 'अ', 'म्', 'अ'], ['आ', 'प्', 'अ', 'क्', 'ए'], ['ल्', 'इ', 'ए'], ['ल्', 'आ', 'य्', 'ए'], ['ह्', 'ऐ'], ['ज्', 'इ', 'अं', 'द्', 'अ', 'ग्', 'ई'], ['प्', 'अ', 'र्', 'अ'], ['श्', 'आ', 'य्', 'अ', 'र्', 'ई'], ['द्', 'ओ'], ['ल्', 'आ', 'इ', 'न्', 'अ'], ['ज्', 'इ', 'न्', 'अ', 'क्', 'ओ'], ['आ', 'प्', 'अ'], ['अ', 'प्', 'अ', 'न्', 'ए'], ['द्', 'ओ', 'स्', 'त्', 'ओ', 'अं'], ['क्', 'ए'], ['स्', 'आ', 'थ्', 'अ'], ['स्', 'आ', 'अँ', 'झ्', 'आ'], ['क्', 'अ', 'र्', 'अ'], ['स्', 'अ', 'क्', 'अ', 'त्', 'ए'], ['ह्', 'ओ'], ['अ', 'प्', 'अ', 'न्', 'ए'], ['द्', 'ओ', 'स्', 'त्', 'ओ', 'अं'], ['क्', 'ए'], ['स्', 'आ', 'थ्', 'अ'], ['स्', 'आ', 'अँ', 'झ्', 'आ'], ['क्', 'अ', 'र्', 'अ'], ['स्', 'अ', 'क्', 'अ', 'त्', 'ए'], ['ह्', 'ओ'], ['स्', 'व्', 'अ', 'र्', 'ग्', 'अ'], ['आ', 'अं', 'ट्', 'ई'], ['च्', 'आ', 'अँ', 'द्', 'अ']]\n",
    "\n"
   ]
  },
  {
   "cell_type": "markdown",
   "id": "096ac806",
   "metadata": {},
   "source": [
    "# Question 2\n"
   ]
  },
  {
   "cell_type": "code",
   "execution_count": 15,
   "id": "7e6336cf",
   "metadata": {},
   "outputs": [
    {
     "name": "stdout",
     "output_type": "stream",
     "text": [
      "***********************   FINAL OUTPUT  ***********************\n",
      "sortedCharacterCount_desc_var\n",
      "{'अ': 102, 'आ': 42, 'क्': 29, 'ए': 25, 'र्': 24, 'न्': 19, 'इ': 19, 'स्': 18, 'य्': 17, 'म्': 16, 'ई': 16, 'अं': 15, 'ह्': 14, 'त्': 14, 'प्': 13, 'व्': 13, 'ल्': 11, 'ओ': 9, 'द्': 7, 'ब्': 7}\n",
      "sortedSyllableCount_desc_var\n",
      "{'र': 13, 'स': 10, 'न': 10, 'क': 9, 'का': 6, 'के': 5, 'ल': 5, 'में': 5, 'या': 5, 'य': 5, 'म': 5, 'ह': 4, 'त': 4, 'ग': 4, 'हा': 4, 'ज': 4, 'प': 3, 'ले': 3, 'को': 3, 'कि': 3}\n",
      "bi_sortedCharacterCount_desc\n",
      "{'र्अ': 16, 'स्अ': 10, 'न्अ': 10, 'य्अ': 9, 'क्अ': 9, 'अर्': 8, 'अह्': 8, 'अन्': 8, 'य्आ': 7, 'अक्': 6, 'क्आ': 6, 'आर्': 6, 'एअं': 6, 'आय्': 6, 'अम्': 6, 'क्ए': 5, 'प्अ': 5, 'ल्अ': 5, 'म्ए': 5, 'त्अ': 5}\n",
      "bi_sortedSyllableCount_desc\n",
      "{'सर': 2, 'रका': 2, 'कार': 2, 'कर': 2, 'गया': 2, 'नहीं': 2, 'महा': 2, 'हाज': 2, 'जन': 2, 'इस': 2, 'और': 2, 'चेय': 2, 'यर': 2, 'रमै': 2, 'मैन': 2, 'मोदी': 1, 'पह': 1, 'हले': 1, 'कार्य': 1, 'र्यका': 1}\n"
     ]
    }
   ],
   "source": [
    "\n",
    "# print(\"***********************   CHARACTER COUNTS ***********************\")\n",
    "# Takes input as unicode format list of list\n",
    "def sortedCharacterCount_desc(final_list):\n",
    "  characterCount={}\n",
    "\n",
    "  for word in range(len(final_list)):\n",
    "      for j in range(len(final_list[word])):\n",
    "          characterCount[final_list[word][j]]=characterCount.get(final_list[word][j],0)+1\n",
    "\n",
    "\n",
    "  # print(characterCount)\n",
    "  # sorted_dict = sorted(characterCount.items(), key=lambda x: x[1])\n",
    "  sortedCharacterCount_desc = dict(sorted(characterCount.items(), key=lambda item: item[1], reverse=True))\n",
    "  # top_20_sortedCharacterCount_desc = dict(list(sortedCharacterCount_desc.items())[:20])\n",
    "\n",
    "  return sortedCharacterCount_desc\n",
    "  # return top_20_sortedCharacterCount_desc\n",
    "\n",
    "\n",
    "sortedCharacterCount_desc_var=sortedCharacterCount_desc(final_list)\n",
    "# print(sortedCharacterCount_desc_var[:20])\n",
    "\n",
    "\n",
    "\n",
    "# print(\"***********************   SYLLABLE GENERATOR ***********************\")\n",
    "# Takes input as unicode format list of list\n",
    "def syllable_generator(final_list):\n",
    "  tempList=[]\n",
    "  tempListFinal=[]\n",
    "  for sublist in range(len(final_list)):\n",
    "      # for i in range(len(sublist)):\n",
    "      i=0\n",
    "      # temp=[]\n",
    "      temp=\"\"\n",
    "      total=[]\n",
    "      # while(final_list[sublist][i] not in vowels):\n",
    "      #     temp.append(final_list[sublist][i])\n",
    "\n",
    "      for i in range(len(final_list[sublist])):\n",
    "          if(final_list[sublist][i] not in vowels or final_list[sublist][i] in extraSounds):\n",
    "              # temp.append(final_list[sublist][i])\n",
    "              temp+=final_list[sublist][i]\n",
    "              ''' FOR TESTING 1\n",
    "              print(\"1\")\n",
    "              print(temp)\n",
    "              '''\n",
    "          else:\n",
    "              # temp.append(final_list[sublist][i])\n",
    "              if(temp.endswith('्')):\n",
    "                temp=temp[:-1]\n",
    "              if(i==0):\n",
    "                temp+=final_list[sublist][i]\n",
    "              else:\n",
    "                temp+=rev_dict[final_list[sublist][i]]\n",
    "              # process(temp)\n",
    "              # Code for process(temp)\n",
    "              ''' FOR TESTING 2\n",
    "              print(\"2\")\n",
    "              size=len(temp)\n",
    "              print(temp)\n",
    "              '''\n",
    "              if(i<=len(final_list[sublist])-2 and final_list[sublist][i+1] in vowels):\n",
    "                # temp+=rev_dict[final_list[sublist][i]]\n",
    "                continue\n",
    "\n",
    "              tempList.append(temp)\n",
    "\n",
    "              temp=\"\"\n",
    "              # temp[size-2]=temp[size-2]+'अ'\n",
    "              # temp[size-2]=temp[size-2]+temp[size-1]\n",
    "              # temp.pop()\n",
    "              # print(temp)\n",
    "              total.append(temp)\n",
    "\n",
    "      if(tempList!=[]):\n",
    "        tempListFinal.append(tempList)\n",
    "      tempList=[]\n",
    "  return tempListFinal\n",
    "\n",
    "tempListFinal = syllable_generator(final_list)\n",
    "# print(tempListFinal)\n",
    "# [['हि', 'न्दी'], ['भा', 'षा'], ['का'], ['अ', 'द्वि', 'ती', 'य'], ['स्था', 'न'], ['है'], ['आ', 'ज'], ['ह', 'म'], ['आ', 'प', 'के'], ['लिे'], ['ला', 'ये'], ['है'], ['जिं', 'द', 'गी'], ['प', 'र'], ['शा', 'य', 'री'], ['दो'], ['लाि', 'न'], ['जि', 'न', 'को'], ['आ', 'प'], ['अ', 'प', 'ने'], ['दो', 'स्तों'], ['के'], ['सा', 'थ'], ['साँ', 'झा'], ['क', 'र'], ['स', 'क', 'ते'], ['हो'], ['अ', 'प', 'ने'], ['दो', 'स्तों'], ['के'], ['सा', 'थ'], ['साँ', 'झा'], ['क', 'र'], ['स', 'क', 'ते'], ['हो'], ['स्व', 'र्ग'], ['आं', 'टी'], ['चाँ', 'द']]\n",
    "\n",
    "\n",
    "# print(\"***********************   SYLLABLE COUNTS ***********************\")\n",
    "# Takes input as list of list of tempList\n",
    "def sortedSyllableCount_desc(tempListFinal):\n",
    "\n",
    "  syllableCount={}\n",
    "\n",
    "  for word in range(len(tempListFinal)):\n",
    "      for j in range(len(tempListFinal[word])):\n",
    "        # print(tempListFinal[word][j])\n",
    "        syllableCount[tempListFinal[word][j]]=syllableCount.get(tempListFinal[word][j],0)+1\n",
    "\n",
    "  # print(syllableCount)\n",
    "  sortedSyllableCount_desc = dict(sorted(syllableCount.items(), key=lambda item: item[1], reverse=True))\n",
    "  # top_20_sortedSyllableCount_desc = dict(list(sortedSyllableCount_desc.items())[:20])\n",
    "\n",
    "  return sortedSyllableCount_desc\n",
    "  # return top_20_sortedSyllableCount_desc\n",
    "\n",
    "sortedSyllableCount_desc_var = sortedSyllableCount_desc(tempListFinal)\n",
    "# print(sortedSyllableCount_desc_var)\n",
    "\n",
    "\n",
    "# print(\"***********************   CHARACTER Bi-GRAM ***********************\")\n",
    "def bi_characterCount(final_list):\n",
    "  bi_CharacterCount={}\n",
    "  for i in range(len(final_list)):\n",
    "    for j in range(len(final_list[i])-1):\n",
    "      # final_list[i][j]\n",
    "      bi_Character=final_list[i][j]+final_list[i][j+1]\n",
    "      bi_CharacterCount[bi_Character]=bi_CharacterCount.get(bi_Character,0)+1\n",
    "\n",
    "  # print(bi_CharacterCount)\n",
    "  bi_sortedCharacterCount_desc = dict(sorted(bi_CharacterCount.items(), key=lambda item: item[1], reverse=True))\n",
    "  # top_20_bi_sortedCharacterCount_desc = dict(list(bi_sortedCharacterCount_desc.items())[:20])\n",
    "\n",
    "  return bi_sortedCharacterCount_desc\n",
    "  # return top_20_bi_sortedCharacterCount_desc\n",
    "\n",
    "# bi_characterCount(final_list)\n",
    "bi_sortedCharacterCount_desc=bi_characterCount(final_list)\n",
    "# print(bi_sortedCharacterCount_desc)\n",
    "# print(bi_sortedCharacterCount_desc)\n",
    "\n",
    "\n",
    "\n",
    "# print(\"***********************   SYLLABLE Bi-GRAM  ***********************\")\n",
    "def bi_SyllableCount(tempListFinal):\n",
    "  bi_SyllableCount={}\n",
    "  for i in range(len(tempListFinal)):\n",
    "    for j in range(len(tempListFinal[i])-1):\n",
    "      # tempListFinal[i][j]\n",
    "      bi_Syllable=tempListFinal[i][j]+tempListFinal[i][j+1]\n",
    "      bi_SyllableCount[bi_Syllable]=bi_SyllableCount.get(bi_Syllable,0)+1\n",
    "\n",
    "  # print(bi_SyllableCount)\n",
    "  bi_sortedSyllableCount_desc = dict(sorted(bi_SyllableCount.items(), key=lambda item: item[1], reverse=True))\n",
    "  # top_20_bi_sortedSyllableCount_desc = dict(list(bi_sortedSyllableCount_desc.items())[:20])\n",
    "\n",
    "  return bi_sortedSyllableCount_desc\n",
    "  # return top_20_bi_sortedSyllableCount_desc\n",
    "\n",
    "bi_sortedSyllableCount_desc=bi_SyllableCount(tempListFinal)\n",
    "# print(bi_sortedSyllableCount_desc)\n",
    "\n",
    "\n",
    "\n",
    "print(\"***********************   FINAL OUTPUT  ***********************\")\n",
    "print(\"sortedCharacterCount_desc_var\")\n",
    "top_20_sortedCharacterCount_desc = dict(list(sortedCharacterCount_desc_var.items())[:20])\n",
    "print(top_20_sortedCharacterCount_desc)\n",
    "\n",
    "\n",
    "\n",
    "print(\"sortedSyllableCount_desc_var\")\n",
    "top_20_sortedSyllableCount_desc = dict(list(sortedSyllableCount_desc_var.items())[:20])\n",
    "print(top_20_sortedSyllableCount_desc)\n",
    "\n",
    "\n",
    "print(\"bi_sortedCharacterCount_desc\")\n",
    "top_20_bi_sortedCharacterCount_desc = dict(list(bi_sortedCharacterCount_desc.items())[:20])\n",
    "print(top_20_bi_sortedCharacterCount_desc)\n",
    "\n",
    "print(\"bi_sortedSyllableCount_desc\")\n",
    "top_20_bi_sortedSyllableCount_desc = dict(list(bi_sortedSyllableCount_desc.items())[:20])\n",
    "print(top_20_bi_sortedSyllableCount_desc)\n",
    "\n",
    "\n",
    "\n",
    "# for word in range(len(final_list)):\n",
    "    # for j in range(len(final_list[word])):\n",
    "    #     characterCount[final_list[word][j]]=characterCount.get(final_list[word][j],0)+1\n",
    "    # i=0\n",
    "    # while(i<=len(final_list[word])):\n",
    "    #     if(final_list[word][i] in consonants):\n",
    "    #         pass\n",
    "    #     i=i+1\n",
    "\n",
    "# सांझा प्रियांशु ह्युंदई चाँद दिलचस्प कर्ण कंस हिन्दी में आवेदन करने की आखिरी abjcsak तारीख 31 जनवरी, 2020 है। इतनी दुआ कर दो हमारे लिए कि kcssdcmk snclskl  जितना प्यार दुनिया ने आपको दिया है, बस उतना ही हमें भी मिल जाए। मोदी सरकार के पहले कार्यकाल में भी तीन तलाक को लेकर बिल लाया गया था, हालांकि तब यह राज्यसभा में पास नहीं हो पाया था। भाजपा के दिवंगत नेता प्रमोद महाजन की बेटी पूनम महाजन को सचिव बनाया गया है।\n"
   ]
  },
  {
   "cell_type": "markdown",
   "id": "3507355e",
   "metadata": {},
   "source": [
    "# Here we store the top 20 unigram character counts in decreasing order of values"
   ]
  },
  {
   "cell_type": "code",
   "execution_count": 17,
   "id": "1e2b7031",
   "metadata": {},
   "outputs": [
    {
     "name": "stdout",
     "output_type": "stream",
     "text": [
      "sortedCharacterCount_desc_var\n",
      "{'अ': 102, 'आ': 42, 'क्': 29, 'ए': 25, 'र्': 24, 'न्': 19, 'इ': 19, 'स्': 18, 'य्': 17, 'म्': 16, 'ई': 16, 'अं': 15, 'ह्': 14, 'त्': 14, 'प्': 13, 'व्': 13, 'ल्': 11, 'ओ': 9, 'द्': 7, 'ब्': 7}\n"
     ]
    }
   ],
   "source": [
    "print(\"sortedCharacterCount_desc_var\")\n",
    "top_20_sortedCharacterCount_desc = dict(list(sortedCharacterCount_desc_var.items())[:20])\n",
    "print(top_20_sortedCharacterCount_desc)"
   ]
  },
  {
   "cell_type": "markdown",
   "id": "f3264cda",
   "metadata": {},
   "source": [
    "#  Here we store the top 20 unigram syllable counts in decreasing order of values"
   ]
  },
  {
   "cell_type": "code",
   "execution_count": 18,
   "id": "c0d14b29",
   "metadata": {},
   "outputs": [
    {
     "name": "stdout",
     "output_type": "stream",
     "text": [
      "sortedSyllableCount_desc_var\n",
      "{'र': 13, 'स': 10, 'न': 10, 'क': 9, 'का': 6, 'के': 5, 'ल': 5, 'में': 5, 'या': 5, 'य': 5, 'म': 5, 'ह': 4, 'त': 4, 'ग': 4, 'हा': 4, 'ज': 4, 'प': 3, 'ले': 3, 'को': 3, 'कि': 3}\n"
     ]
    }
   ],
   "source": [
    "print(\"sortedSyllableCount_desc_var\")\n",
    "top_20_sortedSyllableCount_desc = dict(list(sortedSyllableCount_desc_var.items())[:20])\n",
    "print(top_20_sortedSyllableCount_desc)"
   ]
  },
  {
   "cell_type": "markdown",
   "id": "07038653",
   "metadata": {},
   "source": [
    "# Here we store the top 20 bigram character counts in decreasing order of values"
   ]
  },
  {
   "cell_type": "code",
   "execution_count": 19,
   "id": "f6efff93",
   "metadata": {},
   "outputs": [
    {
     "name": "stdout",
     "output_type": "stream",
     "text": [
      "bi_sortedCharacterCount_desc\n",
      "{'र्अ': 16, 'स्अ': 10, 'न्अ': 10, 'य्अ': 9, 'क्अ': 9, 'अर्': 8, 'अह्': 8, 'अन्': 8, 'य्आ': 7, 'अक्': 6, 'क्आ': 6, 'आर्': 6, 'एअं': 6, 'आय्': 6, 'अम्': 6, 'क्ए': 5, 'प्अ': 5, 'ल्अ': 5, 'म्ए': 5, 'त्अ': 5}\n"
     ]
    }
   ],
   "source": [
    "print(\"bi_sortedCharacterCount_desc\")\n",
    "top_20_bi_sortedCharacterCount_desc = dict(list(bi_sortedCharacterCount_desc.items())[:20])\n",
    "print(top_20_bi_sortedCharacterCount_desc)"
   ]
  },
  {
   "cell_type": "markdown",
   "id": "2e233465",
   "metadata": {},
   "source": [
    "# Here we store the top 20 bigram syllable counts in decreasing order of values"
   ]
  },
  {
   "cell_type": "code",
   "execution_count": 20,
   "id": "249d4694",
   "metadata": {},
   "outputs": [
    {
     "name": "stdout",
     "output_type": "stream",
     "text": [
      "bi_sortedSyllableCount_desc\n",
      "{'सर': 2, 'रका': 2, 'कार': 2, 'कर': 2, 'गया': 2, 'नहीं': 2, 'महा': 2, 'हाज': 2, 'जन': 2, 'इस': 2, 'और': 2, 'चेय': 2, 'यर': 2, 'रमै': 2, 'मैन': 2, 'मोदी': 1, 'पह': 1, 'हले': 1, 'कार्य': 1, 'र्यका': 1}\n"
     ]
    }
   ],
   "source": [
    "print(\"bi_sortedSyllableCount_desc\")\n",
    "top_20_bi_sortedSyllableCount_desc = dict(list(bi_sortedSyllableCount_desc.items())[:20])\n",
    "print(top_20_bi_sortedSyllableCount_desc)"
   ]
  },
  {
   "cell_type": "code",
   "execution_count": null,
   "id": "14f8d129",
   "metadata": {},
   "outputs": [],
   "source": []
  }
 ],
 "metadata": {
  "kernelspec": {
   "display_name": "Python 3 (ipykernel)",
   "language": "python",
   "name": "python3"
  },
  "language_info": {
   "codemirror_mode": {
    "name": "ipython",
    "version": 3
   },
   "file_extension": ".py",
   "mimetype": "text/x-python",
   "name": "python",
   "nbconvert_exporter": "python",
   "pygments_lexer": "ipython3",
   "version": "3.11.5"
  }
 },
 "nbformat": 4,
 "nbformat_minor": 5
}
